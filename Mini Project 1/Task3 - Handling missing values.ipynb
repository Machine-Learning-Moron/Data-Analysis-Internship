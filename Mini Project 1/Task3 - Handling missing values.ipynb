{
 "cells": [
  {
   "cell_type": "code",
   "execution_count": 1,
   "metadata": {},
   "outputs": [],
   "source": [
    "import pandas as pd"
   ]
  },
  {
   "cell_type": "code",
   "execution_count": 13,
   "metadata": {},
   "outputs": [],
   "source": [
    "runkeeper_file = 'datasets/cardioActivities.csv'"
   ]
  },
  {
   "cell_type": "code",
   "execution_count": 10,
   "metadata": {},
   "outputs": [],
   "source": [
    "pd.read_csv(runkeeper_file, parse_dates=['Date'], index_col='Date')"
   ]
  },
  {
   "cell_type": "code",
   "execution_count": 14,
   "metadata": {},
   "outputs": [
    {
     "data": {
      "text/html": [
       "<div>\n",
       "<style scoped>\n",
       "    .dataframe tbody tr th:only-of-type {\n",
       "        vertical-align: middle;\n",
       "    }\n",
       "\n",
       "    .dataframe tbody tr th {\n",
       "        vertical-align: top;\n",
       "    }\n",
       "\n",
       "    .dataframe thead th {\n",
       "        text-align: right;\n",
       "    }\n",
       "</style>\n",
       "<table border=\"1\" class=\"dataframe\">\n",
       "  <thead>\n",
       "    <tr style=\"text-align: right;\">\n",
       "      <th></th>\n",
       "      <th>Activity Id</th>\n",
       "      <th>Type</th>\n",
       "      <th>Route Name</th>\n",
       "      <th>Distance (km)</th>\n",
       "      <th>Duration</th>\n",
       "      <th>Average Pace</th>\n",
       "      <th>Average Speed (km/h)</th>\n",
       "      <th>Calories Burned</th>\n",
       "      <th>Climb (m)</th>\n",
       "      <th>Average Heart Rate (bpm)</th>\n",
       "      <th>Friend's Tagged</th>\n",
       "      <th>Notes</th>\n",
       "      <th>GPX File</th>\n",
       "    </tr>\n",
       "    <tr>\n",
       "      <th>Date</th>\n",
       "      <th></th>\n",
       "      <th></th>\n",
       "      <th></th>\n",
       "      <th></th>\n",
       "      <th></th>\n",
       "      <th></th>\n",
       "      <th></th>\n",
       "      <th></th>\n",
       "      <th></th>\n",
       "      <th></th>\n",
       "      <th></th>\n",
       "      <th></th>\n",
       "      <th></th>\n",
       "    </tr>\n",
       "  </thead>\n",
       "  <tbody>\n",
       "    <tr>\n",
       "      <th>2013-12-04 18:36:22</th>\n",
       "      <td>0a1d041d-9ea5-438a-a2df-dcac74a33116</td>\n",
       "      <td>Running</td>\n",
       "      <td>NaN</td>\n",
       "      <td>12.48</td>\n",
       "      <td>1:10:42</td>\n",
       "      <td>5:40</td>\n",
       "      <td>10.59</td>\n",
       "      <td>896.000000</td>\n",
       "      <td>69</td>\n",
       "      <td>NaN</td>\n",
       "      <td>NaN</td>\n",
       "      <td>NaN</td>\n",
       "      <td>2013-12-04-183622.gpx</td>\n",
       "    </tr>\n",
       "    <tr>\n",
       "      <th>2013-02-22 19:23:38</th>\n",
       "      <td>df659987-77a5-4c7b-8633-74dbb15d3390</td>\n",
       "      <td>Running</td>\n",
       "      <td>NaN</td>\n",
       "      <td>6.32</td>\n",
       "      <td>35:58</td>\n",
       "      <td>5:41</td>\n",
       "      <td>10.55</td>\n",
       "      <td>454.000000</td>\n",
       "      <td>35</td>\n",
       "      <td>NaN</td>\n",
       "      <td>NaN</td>\n",
       "      <td>NaN</td>\n",
       "      <td>2013-02-22-192338.gpx</td>\n",
       "    </tr>\n",
       "    <tr>\n",
       "      <th>2016-07-10 16:35:25</th>\n",
       "      <td>85014381-7900-49e2-88f0-42c75e0954c1</td>\n",
       "      <td>Running</td>\n",
       "      <td>NaN</td>\n",
       "      <td>19.27</td>\n",
       "      <td>1:49:48</td>\n",
       "      <td>5:42</td>\n",
       "      <td>10.53</td>\n",
       "      <td>1323.999999</td>\n",
       "      <td>319</td>\n",
       "      <td>142.0</td>\n",
       "      <td>NaN</td>\n",
       "      <td>TomTom MySports Watch</td>\n",
       "      <td>2016-07-10-163525.gpx</td>\n",
       "    </tr>\n",
       "  </tbody>\n",
       "</table>\n",
       "</div>"
      ],
      "text/plain": [
       "                                              Activity Id     Type Route Name  \\\n",
       "Date                                                                            \n",
       "2013-12-04 18:36:22  0a1d041d-9ea5-438a-a2df-dcac74a33116  Running        NaN   \n",
       "2013-02-22 19:23:38  df659987-77a5-4c7b-8633-74dbb15d3390  Running        NaN   \n",
       "2016-07-10 16:35:25  85014381-7900-49e2-88f0-42c75e0954c1  Running        NaN   \n",
       "\n",
       "                     Distance (km) Duration Average Pace  \\\n",
       "Date                                                       \n",
       "2013-12-04 18:36:22          12.48  1:10:42         5:40   \n",
       "2013-02-22 19:23:38           6.32    35:58         5:41   \n",
       "2016-07-10 16:35:25          19.27  1:49:48         5:42   \n",
       "\n",
       "                     Average Speed (km/h)  Calories Burned  Climb (m)  \\\n",
       "Date                                                                    \n",
       "2013-12-04 18:36:22                 10.59       896.000000         69   \n",
       "2013-02-22 19:23:38                 10.55       454.000000         35   \n",
       "2016-07-10 16:35:25                 10.53      1323.999999        319   \n",
       "\n",
       "                     Average Heart Rate (bpm)  Friend's Tagged  \\\n",
       "Date                                                             \n",
       "2013-12-04 18:36:22                       NaN              NaN   \n",
       "2013-02-22 19:23:38                       NaN              NaN   \n",
       "2016-07-10 16:35:25                     142.0              NaN   \n",
       "\n",
       "                                     Notes               GPX File  \n",
       "Date                                                               \n",
       "2013-12-04 18:36:22                    NaN  2013-12-04-183622.gpx  \n",
       "2013-02-22 19:23:38                    NaN  2013-02-22-192338.gpx  \n",
       "2016-07-10 16:35:25  TomTom MySports Watch  2016-07-10-163525.gpx  "
      ]
     },
     "metadata": {},
     "output_type": "display_data"
    }
   ],
   "source": [
    "display(df_activities.sample(3))\n"
   ]
  },
  {
   "cell_type": "code",
   "execution_count": 22,
   "metadata": {},
   "outputs": [
    {
     "data": {
      "text/html": [
       "<div>\n",
       "<style scoped>\n",
       "    .dataframe tbody tr th:only-of-type {\n",
       "        vertical-align: middle;\n",
       "    }\n",
       "\n",
       "    .dataframe tbody tr th {\n",
       "        vertical-align: top;\n",
       "    }\n",
       "\n",
       "    .dataframe thead th {\n",
       "        text-align: right;\n",
       "    }\n",
       "</style>\n",
       "<table border=\"1\" class=\"dataframe\">\n",
       "  <thead>\n",
       "    <tr style=\"text-align: right;\">\n",
       "      <th></th>\n",
       "      <th>Type</th>\n",
       "      <th>Distance (km)</th>\n",
       "      <th>Duration</th>\n",
       "      <th>Average Pace</th>\n",
       "      <th>Average Speed (km/h)</th>\n",
       "      <th>Climb (m)</th>\n",
       "      <th>Average Heart Rate (bpm)</th>\n",
       "    </tr>\n",
       "    <tr>\n",
       "      <th>Date</th>\n",
       "      <th></th>\n",
       "      <th></th>\n",
       "      <th></th>\n",
       "      <th></th>\n",
       "      <th></th>\n",
       "      <th></th>\n",
       "      <th></th>\n",
       "    </tr>\n",
       "  </thead>\n",
       "  <tbody>\n",
       "    <tr>\n",
       "      <th>2012-08-28 07:06:57</th>\n",
       "      <td>Walking</td>\n",
       "      <td>1.57</td>\n",
       "      <td>13:39</td>\n",
       "      <td>8:41</td>\n",
       "      <td>6.91</td>\n",
       "      <td>7</td>\n",
       "      <td>NaN</td>\n",
       "    </tr>\n",
       "    <tr>\n",
       "      <th>2012-08-24 12:59:42</th>\n",
       "      <td>Walking</td>\n",
       "      <td>1.48</td>\n",
       "      <td>17:56</td>\n",
       "      <td>12:09</td>\n",
       "      <td>4.94</td>\n",
       "      <td>12</td>\n",
       "      <td>NaN</td>\n",
       "    </tr>\n",
       "    <tr>\n",
       "      <th>2012-08-24 10:12:16</th>\n",
       "      <td>Walking</td>\n",
       "      <td>1.49</td>\n",
       "      <td>13:43</td>\n",
       "      <td>9:14</td>\n",
       "      <td>6.49</td>\n",
       "      <td>9</td>\n",
       "      <td>NaN</td>\n",
       "    </tr>\n",
       "    <tr>\n",
       "      <th>2012-08-24 08:13:12</th>\n",
       "      <td>Running</td>\n",
       "      <td>3.15</td>\n",
       "      <td>16:00</td>\n",
       "      <td>5:05</td>\n",
       "      <td>11.82</td>\n",
       "      <td>17</td>\n",
       "      <td>NaN</td>\n",
       "    </tr>\n",
       "    <tr>\n",
       "      <th>2012-08-22 18:53:54</th>\n",
       "      <td>Running</td>\n",
       "      <td>5.69</td>\n",
       "      <td>31:08</td>\n",
       "      <td>5:29</td>\n",
       "      <td>10.95</td>\n",
       "      <td>32</td>\n",
       "      <td>NaN</td>\n",
       "    </tr>\n",
       "  </tbody>\n",
       "</table>\n",
       "</div>"
      ],
      "text/plain": [
       "                        Type  Distance (km) Duration Average Pace  \\\n",
       "Date                                                                \n",
       "2012-08-28 07:06:57  Walking           1.57    13:39         8:41   \n",
       "2012-08-24 12:59:42  Walking           1.48    17:56        12:09   \n",
       "2012-08-24 10:12:16  Walking           1.49    13:43         9:14   \n",
       "2012-08-24 08:13:12  Running           3.15    16:00         5:05   \n",
       "2012-08-22 18:53:54  Running           5.69    31:08         5:29   \n",
       "\n",
       "                     Average Speed (km/h)  Climb (m)  Average Heart Rate (bpm)  \n",
       "Date                                                                            \n",
       "2012-08-28 07:06:57                  6.91          7                       NaN  \n",
       "2012-08-24 12:59:42                  4.94         12                       NaN  \n",
       "2012-08-24 10:12:16                  6.49          9                       NaN  \n",
       "2012-08-24 08:13:12                 11.82         17                       NaN  \n",
       "2012-08-22 18:53:54                 10.95         32                       NaN  "
      ]
     },
     "execution_count": 22,
     "metadata": {},
     "output_type": "execute_result"
    }
   ],
   "source": [
    "df_activities.tail()"
   ]
  },
  {
   "cell_type": "code",
   "execution_count": 8,
   "metadata": {},
   "outputs": [
    {
     "name": "stdout",
     "output_type": "stream",
     "text": [
      "<class 'pandas.core.frame.DataFrame'>\n",
      "DatetimeIndex: 508 entries, 2018-11-11 14:05:12 to 2012-08-22 18:53:54\n",
      "Data columns (total 13 columns):\n",
      " #   Column                    Non-Null Count  Dtype  \n",
      "---  ------                    --------------  -----  \n",
      " 0   Activity Id               508 non-null    object \n",
      " 1   Type                      508 non-null    object \n",
      " 2   Route Name                1 non-null      object \n",
      " 3   Distance (km)             508 non-null    float64\n",
      " 4   Duration                  508 non-null    object \n",
      " 5   Average Pace              508 non-null    object \n",
      " 6   Average Speed (km/h)      508 non-null    float64\n",
      " 7   Calories Burned           508 non-null    float64\n",
      " 8   Climb (m)                 508 non-null    int64  \n",
      " 9   Average Heart Rate (bpm)  294 non-null    float64\n",
      " 10  Friend's Tagged           0 non-null      float64\n",
      " 11  Notes                     231 non-null    object \n",
      " 12  GPX File                  504 non-null    object \n",
      "dtypes: float64(5), int64(1), object(7)\n",
      "memory usage: 55.6+ KB\n"
     ]
    }
   ],
   "source": [
    "df_activities.info()"
   ]
  },
  {
   "cell_type": "markdown",
   "metadata": {},
   "source": [
    "### Data Preprocessing"
   ]
  },
  {
   "cell_type": "code",
   "execution_count": 16,
   "metadata": {},
   "outputs": [],
   "source": [
    "# Defining the list of columns to be deleted\n",
    "cols_to_drop = ['Friend\\'s Tagged','Route Name','GPX File','Activity Id','Calories Burned', 'Notes']\n"
   ]
  },
  {
   "cell_type": "code",
   "execution_count": 17,
   "metadata": {},
   "outputs": [],
   "source": [
    "# Dropping the unnecessary columns\n",
    "\n",
    "df_activities.drop(cols_to_drop, axis=1, inplace=True)"
   ]
  },
  {
   "cell_type": "code",
   "execution_count": 18,
   "metadata": {},
   "outputs": [
    {
     "data": {
      "text/plain": [
       "Running    459\n",
       "Cycling     29\n",
       "Walking     18\n",
       "Other        2\n",
       "Name: Type, dtype: int64"
      ]
     },
     "metadata": {},
     "output_type": "display_data"
    }
   ],
   "source": [
    "# Counting the types of training activities\n",
    "\n",
    "display(df_activities.Type.value_counts())"
   ]
  },
  {
   "cell_type": "code",
   "execution_count": 19,
   "metadata": {},
   "outputs": [],
   "source": [
    "# Renaming the feature 'Other' type to 'Unicycling'\n",
    "\n",
    "df_activities['Type'] = df_activities['Type'].str.replace('Other', 'Unicycling', regex=False)"
   ]
  },
  {
   "cell_type": "code",
   "execution_count": 20,
   "metadata": {},
   "outputs": [
    {
     "data": {
      "text/plain": [
       "Type                          0\n",
       "Distance (km)                 0\n",
       "Duration                      0\n",
       "Average Pace                  0\n",
       "Average Speed (km/h)          0\n",
       "Climb (m)                     0\n",
       "Average Heart Rate (bpm)    214\n",
       "dtype: int64"
      ]
     },
     "execution_count": 20,
     "metadata": {},
     "output_type": "execute_result"
    }
   ],
   "source": [
    "# Count missing values for each column\n",
    "\n",
    "df_activities.isnull().sum(axis=0)"
   ]
  },
  {
   "cell_type": "markdown",
   "metadata": {},
   "source": [
    "### Handling Missing Values"
   ]
  },
  {
   "cell_type": "markdown",
   "metadata": {},
   "source": [
    "We can clearly see from the last output,that there are 214 missing entries for average heart rate in bpm.\n",
    "We can fill in the missing values with an average value. This process is called mean imputation. When we do imputation to fill in missing values,we must be aware of the fact that the average heart rate varies for different activities.So we need to filter the dataframes by Type and calculate each activity's average heart rate, and then replace in the missing values with those means."
   ]
  },
  {
   "cell_type": "code",
   "execution_count": 25,
   "metadata": {},
   "outputs": [],
   "source": [
    "# calculating means for heart rate of different types of activities mentioned\n",
    "\n",
    "mean_hour_run = df_activities[df_activities['Type']=='Running']['Average Heart Rate (bpm)'].mean()\n",
    "\n",
    "mean_hour_walk = df_activities[df_activities['Type']=='Walking']['Average Heart Rate (bpm)'].mean()\n",
    "\n",
    "mean_hour_cycle = df_activities[df_activities['Type']=='Cycling']['Average Heart Rate (bpm)'].mean()"
   ]
  },
  {
   "cell_type": "code",
   "execution_count": 26,
   "metadata": {},
   "outputs": [],
   "source": [
    "#copying the splitted dataframes for simplified task\n",
    "df_run = df_activities[df_activities['Type'] == 'Running'].copy()\n",
    "\n",
    "df_walk = df_activities[df_activities['Type'] == 'Walking'].copy()\n",
    "\n",
    "df_cycle = df_activities[df_activities['Type'] == 'Cycling'].copy()"
   ]
  },
  {
   "cell_type": "code",
   "execution_count": 29,
   "metadata": {},
   "outputs": [],
   "source": [
    "# Filling missing values with counted mean values\n",
    "df_walk['Average Heart Rate (bpm)'].fillna(float(mean_hour_walk), inplace=True)\n",
    "\n",
    "df_run['Average Heart Rate (bpm)'].fillna(int(mean_hour_run), inplace=True)\n",
    "\n",
    "df_cycle['Average Heart Rate (bpm)'].fillna(int(mean_hour_cycle), inplace=True)"
   ]
  },
  {
   "cell_type": "code",
   "execution_count": 30,
   "metadata": {},
   "outputs": [
    {
     "data": {
      "text/plain": [
       "Type                        0\n",
       "Distance (km)               0\n",
       "Duration                    0\n",
       "Average Pace                0\n",
       "Average Speed (km/h)        0\n",
       "Climb (m)                   0\n",
       "Average Heart Rate (bpm)    0\n",
       "dtype: int64"
      ]
     },
     "execution_count": 30,
     "metadata": {},
     "output_type": "execute_result"
    }
   ],
   "source": [
    "#count the missing values\n",
    "df_run.isnull().sum()"
   ]
  },
  {
   "cell_type": "code",
   "execution_count": null,
   "metadata": {},
   "outputs": [],
   "source": []
  }
 ],
 "metadata": {
  "kernelspec": {
   "display_name": "Python 3",
   "language": "python",
   "name": "python3"
  },
  "language_info": {
   "codemirror_mode": {
    "name": "ipython",
    "version": 3
   },
   "file_extension": ".py",
   "mimetype": "text/x-python",
   "name": "python",
   "nbconvert_exporter": "python",
   "pygments_lexer": "ipython3",
   "version": "3.7.6"
  }
 },
 "nbformat": 4,
 "nbformat_minor": 4
}
