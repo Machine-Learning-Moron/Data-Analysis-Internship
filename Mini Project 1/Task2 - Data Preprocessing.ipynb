{
 "cells": [
  {
   "cell_type": "code",
   "execution_count": 1,
   "metadata": {},
   "outputs": [],
   "source": [
    "import pandas as pd"
   ]
  },
  {
   "cell_type": "code",
   "execution_count": 13,
   "metadata": {},
   "outputs": [],
   "source": [
    "runkeeper_file = 'datasets/cardioActivities.csv'"
   ]
  },
  {
   "cell_type": "code",
   "execution_count": 10,
   "metadata": {},
   "outputs": [],
   "source": [
    "pd.read_csv(runkeeper_file, parse_dates=['Date'], index_col='Date')"
   ]
  },
  {
   "cell_type": "code",
   "execution_count": 14,
   "metadata": {},
   "outputs": [
    {
     "data": {
      "text/html": [
       "<div>\n",
       "<style scoped>\n",
       "    .dataframe tbody tr th:only-of-type {\n",
       "        vertical-align: middle;\n",
       "    }\n",
       "\n",
       "    .dataframe tbody tr th {\n",
       "        vertical-align: top;\n",
       "    }\n",
       "\n",
       "    .dataframe thead th {\n",
       "        text-align: right;\n",
       "    }\n",
       "</style>\n",
       "<table border=\"1\" class=\"dataframe\">\n",
       "  <thead>\n",
       "    <tr style=\"text-align: right;\">\n",
       "      <th></th>\n",
       "      <th>Activity Id</th>\n",
       "      <th>Type</th>\n",
       "      <th>Route Name</th>\n",
       "      <th>Distance (km)</th>\n",
       "      <th>Duration</th>\n",
       "      <th>Average Pace</th>\n",
       "      <th>Average Speed (km/h)</th>\n",
       "      <th>Calories Burned</th>\n",
       "      <th>Climb (m)</th>\n",
       "      <th>Average Heart Rate (bpm)</th>\n",
       "      <th>Friend's Tagged</th>\n",
       "      <th>Notes</th>\n",
       "      <th>GPX File</th>\n",
       "    </tr>\n",
       "    <tr>\n",
       "      <th>Date</th>\n",
       "      <th></th>\n",
       "      <th></th>\n",
       "      <th></th>\n",
       "      <th></th>\n",
       "      <th></th>\n",
       "      <th></th>\n",
       "      <th></th>\n",
       "      <th></th>\n",
       "      <th></th>\n",
       "      <th></th>\n",
       "      <th></th>\n",
       "      <th></th>\n",
       "      <th></th>\n",
       "    </tr>\n",
       "  </thead>\n",
       "  <tbody>\n",
       "    <tr>\n",
       "      <th>2013-12-04 18:36:22</th>\n",
       "      <td>0a1d041d-9ea5-438a-a2df-dcac74a33116</td>\n",
       "      <td>Running</td>\n",
       "      <td>NaN</td>\n",
       "      <td>12.48</td>\n",
       "      <td>1:10:42</td>\n",
       "      <td>5:40</td>\n",
       "      <td>10.59</td>\n",
       "      <td>896.000000</td>\n",
       "      <td>69</td>\n",
       "      <td>NaN</td>\n",
       "      <td>NaN</td>\n",
       "      <td>NaN</td>\n",
       "      <td>2013-12-04-183622.gpx</td>\n",
       "    </tr>\n",
       "    <tr>\n",
       "      <th>2013-02-22 19:23:38</th>\n",
       "      <td>df659987-77a5-4c7b-8633-74dbb15d3390</td>\n",
       "      <td>Running</td>\n",
       "      <td>NaN</td>\n",
       "      <td>6.32</td>\n",
       "      <td>35:58</td>\n",
       "      <td>5:41</td>\n",
       "      <td>10.55</td>\n",
       "      <td>454.000000</td>\n",
       "      <td>35</td>\n",
       "      <td>NaN</td>\n",
       "      <td>NaN</td>\n",
       "      <td>NaN</td>\n",
       "      <td>2013-02-22-192338.gpx</td>\n",
       "    </tr>\n",
       "    <tr>\n",
       "      <th>2016-07-10 16:35:25</th>\n",
       "      <td>85014381-7900-49e2-88f0-42c75e0954c1</td>\n",
       "      <td>Running</td>\n",
       "      <td>NaN</td>\n",
       "      <td>19.27</td>\n",
       "      <td>1:49:48</td>\n",
       "      <td>5:42</td>\n",
       "      <td>10.53</td>\n",
       "      <td>1323.999999</td>\n",
       "      <td>319</td>\n",
       "      <td>142.0</td>\n",
       "      <td>NaN</td>\n",
       "      <td>TomTom MySports Watch</td>\n",
       "      <td>2016-07-10-163525.gpx</td>\n",
       "    </tr>\n",
       "  </tbody>\n",
       "</table>\n",
       "</div>"
      ],
      "text/plain": [
       "                                              Activity Id     Type Route Name  \\\n",
       "Date                                                                            \n",
       "2013-12-04 18:36:22  0a1d041d-9ea5-438a-a2df-dcac74a33116  Running        NaN   \n",
       "2013-02-22 19:23:38  df659987-77a5-4c7b-8633-74dbb15d3390  Running        NaN   \n",
       "2016-07-10 16:35:25  85014381-7900-49e2-88f0-42c75e0954c1  Running        NaN   \n",
       "\n",
       "                     Distance (km) Duration Average Pace  \\\n",
       "Date                                                       \n",
       "2013-12-04 18:36:22          12.48  1:10:42         5:40   \n",
       "2013-02-22 19:23:38           6.32    35:58         5:41   \n",
       "2016-07-10 16:35:25          19.27  1:49:48         5:42   \n",
       "\n",
       "                     Average Speed (km/h)  Calories Burned  Climb (m)  \\\n",
       "Date                                                                    \n",
       "2013-12-04 18:36:22                 10.59       896.000000         69   \n",
       "2013-02-22 19:23:38                 10.55       454.000000         35   \n",
       "2016-07-10 16:35:25                 10.53      1323.999999        319   \n",
       "\n",
       "                     Average Heart Rate (bpm)  Friend's Tagged  \\\n",
       "Date                                                             \n",
       "2013-12-04 18:36:22                       NaN              NaN   \n",
       "2013-02-22 19:23:38                       NaN              NaN   \n",
       "2016-07-10 16:35:25                     142.0              NaN   \n",
       "\n",
       "                                     Notes               GPX File  \n",
       "Date                                                               \n",
       "2013-12-04 18:36:22                    NaN  2013-12-04-183622.gpx  \n",
       "2013-02-22 19:23:38                    NaN  2013-02-22-192338.gpx  \n",
       "2016-07-10 16:35:25  TomTom MySports Watch  2016-07-10-163525.gpx  "
      ]
     },
     "metadata": {},
     "output_type": "display_data"
    }
   ],
   "source": [
    "display(df_activities.sample(3))\n"
   ]
  },
  {
   "cell_type": "code",
   "execution_count": 8,
   "metadata": {},
   "outputs": [
    {
     "name": "stdout",
     "output_type": "stream",
     "text": [
      "<class 'pandas.core.frame.DataFrame'>\n",
      "DatetimeIndex: 508 entries, 2018-11-11 14:05:12 to 2012-08-22 18:53:54\n",
      "Data columns (total 13 columns):\n",
      " #   Column                    Non-Null Count  Dtype  \n",
      "---  ------                    --------------  -----  \n",
      " 0   Activity Id               508 non-null    object \n",
      " 1   Type                      508 non-null    object \n",
      " 2   Route Name                1 non-null      object \n",
      " 3   Distance (km)             508 non-null    float64\n",
      " 4   Duration                  508 non-null    object \n",
      " 5   Average Pace              508 non-null    object \n",
      " 6   Average Speed (km/h)      508 non-null    float64\n",
      " 7   Calories Burned           508 non-null    float64\n",
      " 8   Climb (m)                 508 non-null    int64  \n",
      " 9   Average Heart Rate (bpm)  294 non-null    float64\n",
      " 10  Friend's Tagged           0 non-null      float64\n",
      " 11  Notes                     231 non-null    object \n",
      " 12  GPX File                  504 non-null    object \n",
      "dtypes: float64(5), int64(1), object(7)\n",
      "memory usage: 55.6+ KB\n"
     ]
    }
   ],
   "source": [
    "df_activities.info()"
   ]
  },
  {
   "cell_type": "markdown",
   "metadata": {},
   "source": [
    "### Data Preprocessing"
   ]
  },
  {
   "cell_type": "code",
   "execution_count": 16,
   "metadata": {},
   "outputs": [],
   "source": [
    "# Defining the list of columns to be deleted\n",
    "cols_to_drop = ['Friend\\'s Tagged','Route Name','GPX File','Activity Id','Calories Burned', 'Notes']\n"
   ]
  },
  {
   "cell_type": "code",
   "execution_count": 17,
   "metadata": {},
   "outputs": [],
   "source": [
    "# Dropping the unnecessary columns\n",
    "\n",
    "df_activities.drop(cols_to_drop, axis=1, inplace=True)"
   ]
  },
  {
   "cell_type": "code",
   "execution_count": 18,
   "metadata": {},
   "outputs": [
    {
     "data": {
      "text/plain": [
       "Running    459\n",
       "Cycling     29\n",
       "Walking     18\n",
       "Other        2\n",
       "Name: Type, dtype: int64"
      ]
     },
     "metadata": {},
     "output_type": "display_data"
    }
   ],
   "source": [
    "# Counting the types of training activities\n",
    "\n",
    "display(df_activities.Type.value_counts())"
   ]
  },
  {
   "cell_type": "code",
   "execution_count": 19,
   "metadata": {},
   "outputs": [],
   "source": [
    "# Renaming the feature 'Other' type to 'Unicycling'\n",
    "\n",
    "df_activities['Type'] = df_activities['Type'].str.replace('Other', 'Unicycling', regex=False)"
   ]
  },
  {
   "cell_type": "code",
   "execution_count": 20,
   "metadata": {},
   "outputs": [
    {
     "data": {
      "text/plain": [
       "Type                          0\n",
       "Distance (km)                 0\n",
       "Duration                      0\n",
       "Average Pace                  0\n",
       "Average Speed (km/h)          0\n",
       "Climb (m)                     0\n",
       "Average Heart Rate (bpm)    214\n",
       "dtype: int64"
      ]
     },
     "execution_count": 20,
     "metadata": {},
     "output_type": "execute_result"
    }
   ],
   "source": [
    "# Count missing values for each column\n",
    "\n",
    "df_activities.isnull().sum(axis=0)"
   ]
  },
  {
   "cell_type": "code",
   "execution_count": null,
   "metadata": {},
   "outputs": [],
   "source": []
  }
 ],
 "metadata": {
  "kernelspec": {
   "display_name": "Python 3",
   "language": "python",
   "name": "python3"
  },
  "language_info": {
   "codemirror_mode": {
    "name": "ipython",
    "version": 3
   },
   "file_extension": ".py",
   "mimetype": "text/x-python",
   "name": "python",
   "nbconvert_exporter": "python",
   "pygments_lexer": "ipython3",
   "version": "3.7.6"
  }
 },
 "nbformat": 4,
 "nbformat_minor": 4
}
